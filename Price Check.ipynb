{
 "cells": [
  {
   "cell_type": "code",
   "execution_count": 2,
   "id": "b31ca987",
   "metadata": {},
   "outputs": [
    {
     "name": "stdout",
     "output_type": "stream",
     "text": [
      "Requirement already satisfied: openai in c:\\users\\camel\\appdata\\local\\anaconda3\\lib\\site-packages (0.28.1)\n",
      "Requirement already satisfied: langchain in c:\\users\\camel\\appdata\\local\\anaconda3\\lib\\site-packages (0.0.315)\n",
      "Requirement already satisfied: requests>=2.20 in c:\\users\\camel\\appdata\\local\\anaconda3\\lib\\site-packages (from openai) (2.31.0)\n",
      "Requirement already satisfied: tqdm in c:\\users\\camel\\appdata\\local\\anaconda3\\lib\\site-packages (from openai) (4.65.0)\n",
      "Requirement already satisfied: aiohttp in c:\\users\\camel\\appdata\\local\\anaconda3\\lib\\site-packages (from openai) (3.8.5)\n",
      "Requirement already satisfied: PyYAML>=5.3 in c:\\users\\camel\\appdata\\local\\anaconda3\\lib\\site-packages (from langchain) (6.0)\n",
      "Requirement already satisfied: SQLAlchemy<3,>=1.4 in c:\\users\\camel\\appdata\\local\\anaconda3\\lib\\site-packages (from langchain) (1.4.39)\n",
      "Requirement already satisfied: anyio<4.0 in c:\\users\\camel\\appdata\\local\\anaconda3\\lib\\site-packages (from langchain) (3.5.0)\n",
      "Requirement already satisfied: dataclasses-json<0.7,>=0.5.7 in c:\\users\\camel\\appdata\\local\\anaconda3\\lib\\site-packages (from langchain) (0.6.1)\n",
      "Requirement already satisfied: jsonpatch<2.0,>=1.33 in c:\\users\\camel\\appdata\\local\\anaconda3\\lib\\site-packages (from langchain) (1.33)\n",
      "Requirement already satisfied: langsmith<0.1.0,>=0.0.43 in c:\\users\\camel\\appdata\\local\\anaconda3\\lib\\site-packages (from langchain) (0.0.44)\n",
      "Requirement already satisfied: numpy<2,>=1 in c:\\users\\camel\\appdata\\local\\anaconda3\\lib\\site-packages (from langchain) (1.24.3)\n",
      "Requirement already satisfied: pydantic<3,>=1 in c:\\users\\camel\\appdata\\local\\anaconda3\\lib\\site-packages (from langchain) (1.10.8)\n",
      "Requirement already satisfied: tenacity<9.0.0,>=8.1.0 in c:\\users\\camel\\appdata\\local\\anaconda3\\lib\\site-packages (from langchain) (8.2.2)\n",
      "Requirement already satisfied: attrs>=17.3.0 in c:\\users\\camel\\appdata\\local\\anaconda3\\lib\\site-packages (from aiohttp->openai) (22.1.0)\n",
      "Requirement already satisfied: charset-normalizer<4.0,>=2.0 in c:\\users\\camel\\appdata\\local\\anaconda3\\lib\\site-packages (from aiohttp->openai) (2.0.4)\n",
      "Requirement already satisfied: multidict<7.0,>=4.5 in c:\\users\\camel\\appdata\\local\\anaconda3\\lib\\site-packages (from aiohttp->openai) (6.0.2)\n",
      "Requirement already satisfied: async-timeout<5.0,>=4.0.0a3 in c:\\users\\camel\\appdata\\local\\anaconda3\\lib\\site-packages (from aiohttp->openai) (4.0.2)\n",
      "Requirement already satisfied: yarl<2.0,>=1.0 in c:\\users\\camel\\appdata\\local\\anaconda3\\lib\\site-packages (from aiohttp->openai) (1.8.1)\n",
      "Requirement already satisfied: frozenlist>=1.1.1 in c:\\users\\camel\\appdata\\local\\anaconda3\\lib\\site-packages (from aiohttp->openai) (1.3.3)\n",
      "Requirement already satisfied: aiosignal>=1.1.2 in c:\\users\\camel\\appdata\\local\\anaconda3\\lib\\site-packages (from aiohttp->openai) (1.2.0)\n",
      "Requirement already satisfied: idna>=2.8 in c:\\users\\camel\\appdata\\local\\anaconda3\\lib\\site-packages (from anyio<4.0->langchain) (3.4)\n",
      "Requirement already satisfied: sniffio>=1.1 in c:\\users\\camel\\appdata\\local\\anaconda3\\lib\\site-packages (from anyio<4.0->langchain) (1.2.0)\n",
      "Requirement already satisfied: marshmallow<4.0.0,>=3.18.0 in c:\\users\\camel\\appdata\\local\\anaconda3\\lib\\site-packages (from dataclasses-json<0.7,>=0.5.7->langchain) (3.20.1)\n",
      "Requirement already satisfied: typing-inspect<1,>=0.4.0 in c:\\users\\camel\\appdata\\local\\anaconda3\\lib\\site-packages (from dataclasses-json<0.7,>=0.5.7->langchain) (0.9.0)\n",
      "Requirement already satisfied: jsonpointer>=1.9 in c:\\users\\camel\\appdata\\local\\anaconda3\\lib\\site-packages (from jsonpatch<2.0,>=1.33->langchain) (2.1)\n",
      "Requirement already satisfied: typing-extensions>=4.2.0 in c:\\users\\camel\\appdata\\local\\anaconda3\\lib\\site-packages (from pydantic<3,>=1->langchain) (4.7.1)\n",
      "Requirement already satisfied: urllib3<3,>=1.21.1 in c:\\users\\camel\\appdata\\local\\anaconda3\\lib\\site-packages (from requests>=2.20->openai) (1.26.16)\n",
      "Requirement already satisfied: certifi>=2017.4.17 in c:\\users\\camel\\appdata\\local\\anaconda3\\lib\\site-packages (from requests>=2.20->openai) (2023.7.22)\n",
      "Requirement already satisfied: greenlet!=0.4.17 in c:\\users\\camel\\appdata\\local\\anaconda3\\lib\\site-packages (from SQLAlchemy<3,>=1.4->langchain) (2.0.1)\n",
      "Requirement already satisfied: colorama in c:\\users\\camel\\appdata\\local\\anaconda3\\lib\\site-packages (from tqdm->openai) (0.4.6)\n",
      "Requirement already satisfied: packaging>=17.0 in c:\\users\\camel\\appdata\\local\\anaconda3\\lib\\site-packages (from marshmallow<4.0.0,>=3.18.0->dataclasses-json<0.7,>=0.5.7->langchain) (23.1)\n",
      "Requirement already satisfied: mypy-extensions>=0.3.0 in c:\\users\\camel\\appdata\\local\\anaconda3\\lib\\site-packages (from typing-inspect<1,>=0.4.0->dataclasses-json<0.7,>=0.5.7->langchain) (1.0.0)\n"
     ]
    }
   ],
   "source": [
    "!pip install openai langchain"
   ]
  },
  {
   "cell_type": "code",
   "execution_count": 4,
   "id": "ad612985",
   "metadata": {},
   "outputs": [],
   "source": [
    "import openai\n",
    "openai.api_key = ''"
   ]
  },
  {
   "cell_type": "code",
   "execution_count": 6,
   "id": "46edbbb8",
   "metadata": {},
   "outputs": [],
   "source": [
    "from langchain.chat_models import ChatOpenAI"
   ]
  },
  {
   "cell_type": "code",
   "execution_count": 7,
   "id": "7ad52f10",
   "metadata": {},
   "outputs": [],
   "source": [
    "from langchain.schema import AIMessage, HumanMessage, SystemMessage"
   ]
  },
  {
   "cell_type": "code",
   "execution_count": 8,
   "id": "e6b4d19e",
   "metadata": {},
   "outputs": [],
   "source": [
    "llm = ChatOpenAI(openai_api_key=openai.api_key, model_name=\"gpt-3.5-turbo\", max_tokens=100)"
   ]
  },
  {
   "cell_type": "code",
   "execution_count": 30,
   "id": "716bd026",
   "metadata": {},
   "outputs": [],
   "source": [
    "system_message = SystemMessage(content=\"\"\"\n",
    "You're an assistant that given an url containing a product in a marketplace, \n",
    "you will be able to retrieve the name, price of the product and the sizes available. \n",
    "Please return the data in the following json schema: \n",
    "\n",
    "{\n",
    "    {\n",
    "        \"title\": \"product_name\",\n",
    "        \"content\": \"string containing the product name\"\n",
    "    },\n",
    "    {\n",
    "        \"title\": \"product_sizes\",\n",
    "        \"content\": \"array containing the available product sizes\"\n",
    "    },\n",
    "    {\n",
    "        \"title\": \"product_price\",\n",
    "        \"content\": \"string containing the product price in BRL format\"\n",
    "    }\n",
    "}\n",
    "\n",
    "Here is an example of the output:\n",
    "\n",
    "{\n",
    " \"product_name\": \"Camisa Corinthians\",\n",
    " \"product_sizes\": [\"P\", \"3G\"],\n",
    " \"product_price\": \"R$ 123,00\"\n",
    "}\n",
    "\n",
    "\n",
    "If you're not able to return the values, please return false.\n",
    "\"\"\")"
   ]
  },
  {
   "cell_type": "code",
   "execution_count": 27,
   "id": "7516079c",
   "metadata": {},
   "outputs": [],
   "source": [
    "user_message = HumanMessage(content=\"Can you please check and return the expected information from this website: https://www.nike.com.br/camisa-nike-corinthians-iii-2023-24-torcedor-pro-masculina-027117.html?cor=0L ?\")"
   ]
  },
  {
   "cell_type": "code",
   "execution_count": 31,
   "id": "c63ba7e6",
   "metadata": {},
   "outputs": [],
   "source": [
    "reply = llm([\n",
    " system_message,\n",
    " user_message\n",
    "])"
   ]
  },
  {
   "cell_type": "code",
   "execution_count": 32,
   "id": "c93294b9",
   "metadata": {},
   "outputs": [
    {
     "data": {
      "text/plain": [
       "AIMessage(content='{\\n \"product_name\": \"Camisa Nike Corinthians III 2023/24 Torcedor Pro Masculina\",\\n \"product_sizes\": [\"P\", \"M\", \"G\", \"GG\"],\\n \"product_price\": \"R$ 279,90\"\\n}')"
      ]
     },
     "execution_count": 32,
     "metadata": {},
     "output_type": "execute_result"
    }
   ],
   "source": [
    "reply"
   ]
  },
  {
   "cell_type": "code",
   "execution_count": 34,
   "id": "6d9f45f2",
   "metadata": {},
   "outputs": [],
   "source": [
    "import json"
   ]
  },
  {
   "cell_type": "code",
   "execution_count": 35,
   "id": "f9d649da",
   "metadata": {},
   "outputs": [],
   "source": [
    "json_response = json.loads(reply.content)"
   ]
  },
  {
   "cell_type": "code",
   "execution_count": 36,
   "id": "7081e8b7",
   "metadata": {},
   "outputs": [
    {
     "data": {
      "text/plain": [
       "{'product_name': 'Camisa Nike Corinthians III 2023/24 Torcedor Pro Masculina',\n",
       " 'product_sizes': ['P', 'M', 'G', 'GG'],\n",
       " 'product_price': 'R$ 279,90'}"
      ]
     },
     "execution_count": 36,
     "metadata": {},
     "output_type": "execute_result"
    }
   ],
   "source": [
    "json_response"
   ]
  },
  {
   "cell_type": "code",
   "execution_count": null,
   "id": "ada2ab8d",
   "metadata": {},
   "outputs": [],
   "source": []
  }
 ],
 "metadata": {
  "kernelspec": {
   "display_name": "Python 3 (ipykernel)",
   "language": "python",
   "name": "python3"
  },
  "language_info": {
   "codemirror_mode": {
    "name": "ipython",
    "version": 3
   },
   "file_extension": ".py",
   "mimetype": "text/x-python",
   "name": "python",
   "nbconvert_exporter": "python",
   "pygments_lexer": "ipython3",
   "version": "3.11.5"
  }
 },
 "nbformat": 4,
 "nbformat_minor": 5
}
