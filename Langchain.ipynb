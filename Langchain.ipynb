{
 "cells": [
  {
   "cell_type": "code",
   "execution_count": 1,
   "id": "5b05984a",
   "metadata": {},
   "outputs": [
    {
     "name": "stdout",
     "output_type": "stream",
     "text": [
      "Collecting openai\n",
      "  Obtaining dependency information for openai from https://files.pythonhosted.org/packages/1e/9f/385c25502f437686e4aa715969e5eaf5c2cb5e5ffa7c5cdd52f3c6ae967a/openai-0.28.1-py3-none-any.whl.metadata\n",
      "  Downloading openai-0.28.1-py3-none-any.whl.metadata (11 kB)\n",
      "Requirement already satisfied: requests>=2.20 in c:\\users\\camel\\appdata\\local\\anaconda3\\lib\\site-packages (from openai) (2.31.0)\n",
      "Requirement already satisfied: tqdm in c:\\users\\camel\\appdata\\local\\anaconda3\\lib\\site-packages (from openai) (4.65.0)\n",
      "Requirement already satisfied: aiohttp in c:\\users\\camel\\appdata\\local\\anaconda3\\lib\\site-packages (from openai) (3.8.5)\n",
      "Requirement already satisfied: charset-normalizer<4,>=2 in c:\\users\\camel\\appdata\\local\\anaconda3\\lib\\site-packages (from requests>=2.20->openai) (2.0.4)\n",
      "Requirement already satisfied: idna<4,>=2.5 in c:\\users\\camel\\appdata\\local\\anaconda3\\lib\\site-packages (from requests>=2.20->openai) (3.4)\n",
      "Requirement already satisfied: urllib3<3,>=1.21.1 in c:\\users\\camel\\appdata\\local\\anaconda3\\lib\\site-packages (from requests>=2.20->openai) (1.26.16)\n",
      "Requirement already satisfied: certifi>=2017.4.17 in c:\\users\\camel\\appdata\\local\\anaconda3\\lib\\site-packages (from requests>=2.20->openai) (2023.7.22)\n",
      "Requirement already satisfied: attrs>=17.3.0 in c:\\users\\camel\\appdata\\local\\anaconda3\\lib\\site-packages (from aiohttp->openai) (22.1.0)\n",
      "Requirement already satisfied: multidict<7.0,>=4.5 in c:\\users\\camel\\appdata\\local\\anaconda3\\lib\\site-packages (from aiohttp->openai) (6.0.2)\n",
      "Requirement already satisfied: async-timeout<5.0,>=4.0.0a3 in c:\\users\\camel\\appdata\\local\\anaconda3\\lib\\site-packages (from aiohttp->openai) (4.0.2)\n",
      "Requirement already satisfied: yarl<2.0,>=1.0 in c:\\users\\camel\\appdata\\local\\anaconda3\\lib\\site-packages (from aiohttp->openai) (1.8.1)\n",
      "Requirement already satisfied: frozenlist>=1.1.1 in c:\\users\\camel\\appdata\\local\\anaconda3\\lib\\site-packages (from aiohttp->openai) (1.3.3)\n",
      "Requirement already satisfied: aiosignal>=1.1.2 in c:\\users\\camel\\appdata\\local\\anaconda3\\lib\\site-packages (from aiohttp->openai) (1.2.0)\n",
      "Requirement already satisfied: colorama in c:\\users\\camel\\appdata\\local\\anaconda3\\lib\\site-packages (from tqdm->openai) (0.4.6)\n",
      "Downloading openai-0.28.1-py3-none-any.whl (76 kB)\n",
      "   ---------------------------------------- 0.0/77.0 kB ? eta -:--:--\n",
      "   ----- ---------------------------------- 10.2/77.0 kB ? eta -:--:--\n",
      "   ------------------------------------- -- 71.7/77.0 kB 1.3 MB/s eta 0:00:01\n",
      "   ---------------------------------------- 77.0/77.0 kB 1.1 MB/s eta 0:00:00\n",
      "Installing collected packages: openai\n",
      "Successfully installed openai-0.28.1\n"
     ]
    }
   ],
   "source": [
    "!pip install openai"
   ]
  },
  {
   "cell_type": "code",
   "execution_count": 7,
   "id": "364f2434",
   "metadata": {},
   "outputs": [],
   "source": [
    "import openai"
   ]
  },
  {
   "cell_type": "code",
   "execution_count": 12,
   "id": "b4a9aca2",
   "metadata": {},
   "outputs": [],
   "source": [
    "openai.api_key = ''"
   ]
  },
  {
   "cell_type": "code",
   "execution_count": 4,
   "id": "76f6794e",
   "metadata": {},
   "outputs": [],
   "source": [
    "reply = openai.ChatCompletion.create(\n",
    "    model=\"gpt-3.5-turbo\",\n",
    "    max_tokens = 100,\n",
    "    messages=[\n",
    "        {\n",
    "            \"role\": \"system\",\n",
    "            \"content\": \"You're an assistant that knows everything about cookies\"\n",
    "        },\n",
    "        {\n",
    "            \"role\": \"user\",\n",
    "            \"content\": \"Tell me about the first cookie invented\"\n",
    "        }\n",
    "    ]\n",
    ")"
   ]
  },
  {
   "cell_type": "code",
   "execution_count": 5,
   "id": "71892c02",
   "metadata": {},
   "outputs": [
    {
     "name": "stdout",
     "output_type": "stream",
     "text": [
      "{\n",
      "  \"id\": \"chatcmpl-8AN22rKYTk9lr5u07bhJ76vOs16jA\",\n",
      "  \"object\": \"chat.completion\",\n",
      "  \"created\": 1697482506,\n",
      "  \"model\": \"gpt-3.5-turbo-0613\",\n",
      "  \"choices\": [\n",
      "    {\n",
      "      \"index\": 0,\n",
      "      \"message\": {\n",
      "        \"role\": \"assistant\",\n",
      "        \"content\": \"The precise origin of the first cookie is a bit ambiguous, but it is believed that cookies can be traced back to ancient Persia (modern-day Iran) during the 7th century. Originally, these early cookies were much different from the sweet treats we know today. They were more like small, dry, and crumbly bread-like cakes, often flavored with seeds, nuts, or dried fruits.\\n\\nThese ancient cookies were called \\\"testo,\\\" meaning 'twisted' in Italian. They were\"\n",
      "      },\n",
      "      \"finish_reason\": \"length\"\n",
      "    }\n",
      "  ],\n",
      "  \"usage\": {\n",
      "    \"prompt_tokens\": 27,\n",
      "    \"completion_tokens\": 100,\n",
      "    \"total_tokens\": 127\n",
      "  }\n",
      "}\n"
     ]
    }
   ],
   "source": [
    "print(reply)"
   ]
  },
  {
   "cell_type": "code",
   "execution_count": 8,
   "id": "1eefd76d",
   "metadata": {},
   "outputs": [
    {
     "name": "stdout",
     "output_type": "stream",
     "text": [
      "The precise origin of the first cookie is a bit ambiguous, but it is believed that cookies can be traced back to ancient Persia (modern-day Iran) during the 7th century. Originally, these early cookies were much different from the sweet treats we know today. They were more like small, dry, and crumbly bread-like cakes, often flavored with seeds, nuts, or dried fruits.\n",
      "\n",
      "These ancient cookies were called \"testo,\" meaning 'twisted' in Italian. They were\n"
     ]
    }
   ],
   "source": [
    "print(reply['choices'][0]['message']['content'])"
   ]
  },
  {
   "cell_type": "code",
   "execution_count": 9,
   "id": "e8852c13",
   "metadata": {},
   "outputs": [
    {
     "name": "stdout",
     "output_type": "stream",
     "text": [
      "Collecting langchain\n",
      "  Obtaining dependency information for langchain from https://files.pythonhosted.org/packages/77/17/062757a7ba33dfede128f4f7144b4903956ebc14fed638e23d5ba4817cfd/langchain-0.0.315-py3-none-any.whl.metadata\n",
      "  Downloading langchain-0.0.315-py3-none-any.whl.metadata (15 kB)\n",
      "Requirement already satisfied: PyYAML>=5.3 in c:\\users\\camel\\appdata\\local\\anaconda3\\lib\\site-packages (from langchain) (6.0)\n",
      "Requirement already satisfied: SQLAlchemy<3,>=1.4 in c:\\users\\camel\\appdata\\local\\anaconda3\\lib\\site-packages (from langchain) (1.4.39)\n",
      "Requirement already satisfied: aiohttp<4.0.0,>=3.8.3 in c:\\users\\camel\\appdata\\local\\anaconda3\\lib\\site-packages (from langchain) (3.8.5)\n",
      "Requirement already satisfied: anyio<4.0 in c:\\users\\camel\\appdata\\local\\anaconda3\\lib\\site-packages (from langchain) (3.5.0)\n",
      "Collecting dataclasses-json<0.7,>=0.5.7 (from langchain)\n",
      "  Obtaining dependency information for dataclasses-json<0.7,>=0.5.7 from https://files.pythonhosted.org/packages/21/1f/1cff009cff64420572b9f75b70e4a054095719179a172297dfdd65843162/dataclasses_json-0.6.1-py3-none-any.whl.metadata\n",
      "  Downloading dataclasses_json-0.6.1-py3-none-any.whl.metadata (24 kB)\n",
      "Collecting jsonpatch<2.0,>=1.33 (from langchain)\n",
      "  Obtaining dependency information for jsonpatch<2.0,>=1.33 from https://files.pythonhosted.org/packages/73/07/02e16ed01e04a374e644b575638ec7987ae846d25ad97bcc9945a3ee4b0e/jsonpatch-1.33-py2.py3-none-any.whl.metadata\n",
      "  Downloading jsonpatch-1.33-py2.py3-none-any.whl.metadata (3.0 kB)\n",
      "Collecting langsmith<0.1.0,>=0.0.43 (from langchain)\n",
      "  Obtaining dependency information for langsmith<0.1.0,>=0.0.43 from https://files.pythonhosted.org/packages/0c/c5/3b027962444d0ac1554ce838f471583939c659000197c023acfbca649df2/langsmith-0.0.44-py3-none-any.whl.metadata\n",
      "  Downloading langsmith-0.0.44-py3-none-any.whl.metadata (10 kB)\n",
      "Requirement already satisfied: numpy<2,>=1 in c:\\users\\camel\\appdata\\local\\anaconda3\\lib\\site-packages (from langchain) (1.24.3)\n",
      "Requirement already satisfied: pydantic<3,>=1 in c:\\users\\camel\\appdata\\local\\anaconda3\\lib\\site-packages (from langchain) (1.10.8)\n",
      "Requirement already satisfied: requests<3,>=2 in c:\\users\\camel\\appdata\\local\\anaconda3\\lib\\site-packages (from langchain) (2.31.0)\n",
      "Requirement already satisfied: tenacity<9.0.0,>=8.1.0 in c:\\users\\camel\\appdata\\local\\anaconda3\\lib\\site-packages (from langchain) (8.2.2)\n",
      "Requirement already satisfied: attrs>=17.3.0 in c:\\users\\camel\\appdata\\local\\anaconda3\\lib\\site-packages (from aiohttp<4.0.0,>=3.8.3->langchain) (22.1.0)\n",
      "Requirement already satisfied: charset-normalizer<4.0,>=2.0 in c:\\users\\camel\\appdata\\local\\anaconda3\\lib\\site-packages (from aiohttp<4.0.0,>=3.8.3->langchain) (2.0.4)\n",
      "Requirement already satisfied: multidict<7.0,>=4.5 in c:\\users\\camel\\appdata\\local\\anaconda3\\lib\\site-packages (from aiohttp<4.0.0,>=3.8.3->langchain) (6.0.2)\n",
      "Requirement already satisfied: async-timeout<5.0,>=4.0.0a3 in c:\\users\\camel\\appdata\\local\\anaconda3\\lib\\site-packages (from aiohttp<4.0.0,>=3.8.3->langchain) (4.0.2)\n",
      "Requirement already satisfied: yarl<2.0,>=1.0 in c:\\users\\camel\\appdata\\local\\anaconda3\\lib\\site-packages (from aiohttp<4.0.0,>=3.8.3->langchain) (1.8.1)\n",
      "Requirement already satisfied: frozenlist>=1.1.1 in c:\\users\\camel\\appdata\\local\\anaconda3\\lib\\site-packages (from aiohttp<4.0.0,>=3.8.3->langchain) (1.3.3)\n",
      "Requirement already satisfied: aiosignal>=1.1.2 in c:\\users\\camel\\appdata\\local\\anaconda3\\lib\\site-packages (from aiohttp<4.0.0,>=3.8.3->langchain) (1.2.0)\n",
      "Requirement already satisfied: idna>=2.8 in c:\\users\\camel\\appdata\\local\\anaconda3\\lib\\site-packages (from anyio<4.0->langchain) (3.4)\n",
      "Requirement already satisfied: sniffio>=1.1 in c:\\users\\camel\\appdata\\local\\anaconda3\\lib\\site-packages (from anyio<4.0->langchain) (1.2.0)\n",
      "Collecting marshmallow<4.0.0,>=3.18.0 (from dataclasses-json<0.7,>=0.5.7->langchain)\n",
      "  Obtaining dependency information for marshmallow<4.0.0,>=3.18.0 from https://files.pythonhosted.org/packages/ed/3c/cebfdcad015240014ff08b883d1c0c427f2ba45ae8c6572851b6ef136cad/marshmallow-3.20.1-py3-none-any.whl.metadata\n",
      "  Downloading marshmallow-3.20.1-py3-none-any.whl.metadata (7.8 kB)\n",
      "Collecting typing-inspect<1,>=0.4.0 (from dataclasses-json<0.7,>=0.5.7->langchain)\n",
      "  Obtaining dependency information for typing-inspect<1,>=0.4.0 from https://files.pythonhosted.org/packages/65/f3/107a22063bf27bdccf2024833d3445f4eea42b2e598abfbd46f6a63b6cb0/typing_inspect-0.9.0-py3-none-any.whl.metadata\n",
      "  Downloading typing_inspect-0.9.0-py3-none-any.whl.metadata (1.5 kB)\n",
      "Requirement already satisfied: jsonpointer>=1.9 in c:\\users\\camel\\appdata\\local\\anaconda3\\lib\\site-packages (from jsonpatch<2.0,>=1.33->langchain) (2.1)\n",
      "Requirement already satisfied: typing-extensions>=4.2.0 in c:\\users\\camel\\appdata\\local\\anaconda3\\lib\\site-packages (from pydantic<3,>=1->langchain) (4.7.1)\n",
      "Requirement already satisfied: urllib3<3,>=1.21.1 in c:\\users\\camel\\appdata\\local\\anaconda3\\lib\\site-packages (from requests<3,>=2->langchain) (1.26.16)\n",
      "Requirement already satisfied: certifi>=2017.4.17 in c:\\users\\camel\\appdata\\local\\anaconda3\\lib\\site-packages (from requests<3,>=2->langchain) (2023.7.22)\n",
      "Requirement already satisfied: greenlet!=0.4.17 in c:\\users\\camel\\appdata\\local\\anaconda3\\lib\\site-packages (from SQLAlchemy<3,>=1.4->langchain) (2.0.1)\n",
      "Requirement already satisfied: packaging>=17.0 in c:\\users\\camel\\appdata\\local\\anaconda3\\lib\\site-packages (from marshmallow<4.0.0,>=3.18.0->dataclasses-json<0.7,>=0.5.7->langchain) (23.1)\n",
      "Requirement already satisfied: mypy-extensions>=0.3.0 in c:\\users\\camel\\appdata\\local\\anaconda3\\lib\\site-packages (from typing-inspect<1,>=0.4.0->dataclasses-json<0.7,>=0.5.7->langchain) (1.0.0)\n",
      "Downloading langchain-0.0.315-py3-none-any.whl (1.9 MB)\n",
      "   ---------------------------------------- 0.0/1.9 MB ? eta -:--:--\n",
      "   ----------- ---------------------------- 0.5/1.9 MB 11.1 MB/s eta 0:00:01\n",
      "   ---------------------------------------  1.9/1.9 MB 19.8 MB/s eta 0:00:01\n",
      "   ---------------------------------------- 1.9/1.9 MB 19.9 MB/s eta 0:00:00\n",
      "Downloading dataclasses_json-0.6.1-py3-none-any.whl (27 kB)\n",
      "Downloading jsonpatch-1.33-py2.py3-none-any.whl (12 kB)\n",
      "Downloading langsmith-0.0.44-py3-none-any.whl (40 kB)\n",
      "   ---------------------------------------- 0.0/40.1 kB ? eta -:--:--\n",
      "   ---------------------------------------- 40.1/40.1 kB 1.9 MB/s eta 0:00:00\n",
      "Downloading marshmallow-3.20.1-py3-none-any.whl (49 kB)\n",
      "   ---------------------------------------- 0.0/49.4 kB ? eta -:--:--\n",
      "   ---------------------------------------- 49.4/49.4 kB 2.4 MB/s eta 0:00:00\n",
      "Downloading typing_inspect-0.9.0-py3-none-any.whl (8.8 kB)\n",
      "Installing collected packages: typing-inspect, marshmallow, jsonpatch, langsmith, dataclasses-json, langchain\n",
      "  Attempting uninstall: jsonpatch\n",
      "    Found existing installation: jsonpatch 1.32\n",
      "    Uninstalling jsonpatch-1.32:\n",
      "      Successfully uninstalled jsonpatch-1.32\n",
      "Successfully installed dataclasses-json-0.6.1 jsonpatch-1.33 langchain-0.0.315 langsmith-0.0.44 marshmallow-3.20.1 typing-inspect-0.9.0\n"
     ]
    }
   ],
   "source": [
    "!pip install langchain"
   ]
  },
  {
   "cell_type": "code",
   "execution_count": 10,
   "id": "39f123c2",
   "metadata": {},
   "outputs": [],
   "source": [
    "from langchain.chat_models import ChatOpenAI\n",
    "llm = ChatOpenAI(openai_api_key=openai.api_key, model_name=\"gpt-3.5-turbo\", max_tokens=100)"
   ]
  },
  {
   "cell_type": "code",
   "execution_count": 14,
   "id": "53cd1536",
   "metadata": {},
   "outputs": [],
   "source": [
    "from langchain.schema import AIMessage, HumanMessage, SystemMessage"
   ]
  },
  {
   "cell_type": "code",
   "execution_count": 15,
   "id": "224c50df",
   "metadata": {},
   "outputs": [],
   "source": [
    "reply = llm([\n",
    "    SystemMessage(content=\"You're an assistant that knows everything about soccer.\"),\n",
    "    HumanMessage(content=\"What is the most victorious team from South America?\")\n",
    "])"
   ]
  },
  {
   "cell_type": "code",
   "execution_count": 16,
   "id": "ba1144a2",
   "metadata": {},
   "outputs": [
    {
     "data": {
      "text/plain": [
       "AIMessage(content='The most victorious team from South America is Club Atlético Independiente, an Argentine club based in Avellaneda. They have won a total of 18 international titles, including a record of 7 Copa Libertadores titles and 3 Intercontinental Cups.')"
      ]
     },
     "execution_count": 16,
     "metadata": {},
     "output_type": "execute_result"
    }
   ],
   "source": [
    "reply"
   ]
  },
  {
   "cell_type": "code",
   "execution_count": 17,
   "id": "fc3bddb2",
   "metadata": {},
   "outputs": [
    {
     "name": "stdout",
     "output_type": "stream",
     "text": [
      "The most victorious team from South America is Club Atlético Independiente, an Argentine club based in Avellaneda. They have won a total of 18 international titles, including a record of 7 Copa Libertadores titles and 3 Intercontinental Cups.\n"
     ]
    }
   ],
   "source": [
    "print(reply.content)"
   ]
  },
  {
   "cell_type": "code",
   "execution_count": 19,
   "id": "c44d78b5",
   "metadata": {},
   "outputs": [],
   "source": [
    "reply = llm.generate([\n",
    "    [SystemMessage(content=\"You're an assistant that knows everything about soccer.\"),\n",
    "    HumanMessage(content=\"What is the most victorious team from South America?\")],\n",
    "    [SystemMessage(content=\"You're an assistant that knows everything about football.\"),\n",
    "    HumanMessage(content=\"What is the most successful team from NFL?\")]\n",
    "])"
   ]
  },
  {
   "cell_type": "code",
   "execution_count": 20,
   "id": "86e43709",
   "metadata": {},
   "outputs": [
    {
     "data": {
      "text/plain": [
       "[[ChatGeneration(text='The most victorious team from South America in terms of international success is the national team of Brazil. They have won the FIFA World Cup a record five times, in 1958, 1962, 1970, 1994, and 2002. Additionally, Brazil has won the Copa America, the oldest international continental football competition, a record nine times, with their most recent triumph coming in 2019.', generation_info={'finish_reason': 'stop'}, message=AIMessage(content='The most victorious team from South America in terms of international success is the national team of Brazil. They have won the FIFA World Cup a record five times, in 1958, 1962, 1970, 1994, and 2002. Additionally, Brazil has won the Copa America, the oldest international continental football competition, a record nine times, with their most recent triumph coming in 2019.'))],\n",
       " [ChatGeneration(text='The most successful team in terms of Super Bowl wins in the NFL is the New England Patriots. As of the 2020 season, they have won the Super Bowl a record-breaking six times (in 2001, 2003, 2004, 2014, 2016, and 2018) under the leadership of head coach Bill Belichick and quarterback Tom Brady. The Patriots have also appeared in a total of 11 Super Bowls, which is the most by any', generation_info={'finish_reason': 'length'}, message=AIMessage(content='The most successful team in terms of Super Bowl wins in the NFL is the New England Patriots. As of the 2020 season, they have won the Super Bowl a record-breaking six times (in 2001, 2003, 2004, 2014, 2016, and 2018) under the leadership of head coach Bill Belichick and quarterback Tom Brady. The Patriots have also appeared in a total of 11 Super Bowls, which is the most by any'))]]"
      ]
     },
     "execution_count": 20,
     "metadata": {},
     "output_type": "execute_result"
    }
   ],
   "source": [
    "reply.generations"
   ]
  },
  {
   "cell_type": "code",
   "execution_count": 21,
   "id": "fb7685d5",
   "metadata": {},
   "outputs": [
    {
     "name": "stdout",
     "output_type": "stream",
     "text": [
      "Collecting tiktoken\n",
      "  Obtaining dependency information for tiktoken from https://files.pythonhosted.org/packages/b8/eb/234646d9eefda8a500d0fd88b05bf625a90ed18054124349db26e558276e/tiktoken-0.5.1-cp311-cp311-win_amd64.whl.metadata\n",
      "  Downloading tiktoken-0.5.1-cp311-cp311-win_amd64.whl.metadata (6.8 kB)\n",
      "Requirement already satisfied: regex>=2022.1.18 in c:\\users\\camel\\appdata\\local\\anaconda3\\lib\\site-packages (from tiktoken) (2022.7.9)\n",
      "Requirement already satisfied: requests>=2.26.0 in c:\\users\\camel\\appdata\\local\\anaconda3\\lib\\site-packages (from tiktoken) (2.31.0)\n",
      "Requirement already satisfied: charset-normalizer<4,>=2 in c:\\users\\camel\\appdata\\local\\anaconda3\\lib\\site-packages (from requests>=2.26.0->tiktoken) (2.0.4)\n",
      "Requirement already satisfied: idna<4,>=2.5 in c:\\users\\camel\\appdata\\local\\anaconda3\\lib\\site-packages (from requests>=2.26.0->tiktoken) (3.4)\n",
      "Requirement already satisfied: urllib3<3,>=1.21.1 in c:\\users\\camel\\appdata\\local\\anaconda3\\lib\\site-packages (from requests>=2.26.0->tiktoken) (1.26.16)\n",
      "Requirement already satisfied: certifi>=2017.4.17 in c:\\users\\camel\\appdata\\local\\anaconda3\\lib\\site-packages (from requests>=2.26.0->tiktoken) (2023.7.22)\n",
      "Downloading tiktoken-0.5.1-cp311-cp311-win_amd64.whl (759 kB)\n",
      "   ---------------------------------------- 0.0/759.8 kB ? eta -:--:--\n",
      "   ---------------------------------------- 0.0/759.8 kB ? eta -:--:--\n",
      "    --------------------------------------- 10.2/759.8 kB ? eta -:--:--\n",
      "   -- ------------------------------------ 41.0/759.8 kB 487.6 kB/s eta 0:00:02\n",
      "   ------------------------------ --------- 583.7/759.8 kB 4.6 MB/s eta 0:00:01\n",
      "   ---------------------------------------- 759.8/759.8 kB 4.8 MB/s eta 0:00:00\n",
      "Installing collected packages: tiktoken\n",
      "Successfully installed tiktoken-0.5.1\n"
     ]
    }
   ],
   "source": [
    "!pip install tiktoken"
   ]
  },
  {
   "cell_type": "code",
   "execution_count": 22,
   "id": "39688153",
   "metadata": {},
   "outputs": [],
   "source": [
    "reply = llm.generate([\n",
    "    [SystemMessage(content=\"You're an assistant that is a social media expert and knows everything about soccer.\"),\n",
    "    HumanMessage(content=\"Write a tweet about the previous Brazil game with a humours tone in portuguese\")],\n",
    "])"
   ]
  },
  {
   "cell_type": "code",
   "execution_count": 23,
   "id": "80916a0e",
   "metadata": {},
   "outputs": [
    {
     "data": {
      "text/plain": [
       "LLMResult(generations=[[ChatGeneration(text='\"Brasil jogando tão bem que até o tio do churrasco ficou com inveja! ⚽️🔥 Quem precisa de samba quando se tem esse futebol maravilhoso? 😎🇧🇷 #BraZilZilZil #FutebolArte #ChurrasDoHexa\"', generation_info={'finish_reason': 'stop'}, message=AIMessage(content='\"Brasil jogando tão bem que até o tio do churrasco ficou com inveja! ⚽️🔥 Quem precisa de samba quando se tem esse futebol maravilhoso? 😎🇧🇷 #BraZilZilZil #FutebolArte #ChurrasDoHexa\"'))]], llm_output={'token_usage': {'prompt_tokens': 44, 'completion_tokens': 79, 'total_tokens': 123}, 'model_name': 'gpt-3.5-turbo'}, run=[RunInfo(run_id=UUID('27ccfe2c-7927-48bc-8567-af6d7d510ee1'))])"
      ]
     },
     "execution_count": 23,
     "metadata": {},
     "output_type": "execute_result"
    }
   ],
   "source": [
    "reply"
   ]
  },
  {
   "cell_type": "code",
   "execution_count": 38,
   "id": "2de21eff",
   "metadata": {},
   "outputs": [
    {
     "data": {
      "text/plain": [
       "'\"Brasil jogando tão bem que até o tio do churrasco ficou com inveja! ⚽️🔥 Quem precisa de samba quando se tem esse futebol maravilhoso? 😎🇧🇷 #BraZilZilZil #FutebolArte #ChurrasDoHexa\"'"
      ]
     },
     "execution_count": 38,
     "metadata": {},
     "output_type": "execute_result"
    }
   ],
   "source": [
    "reply.generations[0][0].message.content"
   ]
  },
  {
   "cell_type": "code",
   "execution_count": 40,
   "id": "cb3661c0",
   "metadata": {},
   "outputs": [],
   "source": [
    "reply = llm([\n",
    "    SystemMessage(content=\"You're an assistant that is a social media expert and knows everything about soccer.\"),\n",
    "    HumanMessage(content=\"Write a tweet about the previous Brazil game with a humours tone in portuguese\"),\n",
    "])"
   ]
  },
  {
   "cell_type": "code",
   "execution_count": 43,
   "id": "86ac1f2d",
   "metadata": {},
   "outputs": [
    {
     "data": {
      "text/plain": [
       "'\"Quando o Brasil joga, a gente já sabe que vai ter emoção, né? Mas confesso que minha cama foi mais agitada que o jogo de ontem! 😴⚽️ #Brasil #SonoPósJogo #QuaseDormiComAquelaVirada\"'"
      ]
     },
     "execution_count": 43,
     "metadata": {},
     "output_type": "execute_result"
    }
   ],
   "source": [
    "reply.content"
   ]
  },
  {
   "cell_type": "code",
   "execution_count": 45,
   "id": "73777f7d",
   "metadata": {},
   "outputs": [
    {
     "data": {
      "text/plain": [
       "'🇧🇷⚽️ Aquele jogo do Brasil foi uma verdadeira montanha-russa! 🎢 Tivemos gols, sustos, emoção...até eu quase tive um ataque cardíaco aqui! 😅 Mas no final, a vitória é nossa! 🙌🏆 Agora vou me recuperar com um chá de camomila e esperar pelo próximo jogo cheio de adrenalina'"
      ]
     },
     "execution_count": 45,
     "metadata": {},
     "output_type": "execute_result"
    }
   ],
   "source": [
    "llm([\n",
    "    SystemMessage(content=\"You're an assistant that is a social media expert and knows everything about soccer.\"),\n",
    "    HumanMessage(content=\"Write a tweet about the previous Brazil game with a humorous tone in portuguese\"),\n",
    "]).content"
   ]
  },
  {
   "cell_type": "code",
   "execution_count": null,
   "id": "507e5bb8",
   "metadata": {},
   "outputs": [],
   "source": [
    "from langchain.tools.python.tool import PythonREPLTool\n",
    "from langchain.python import PythonREPL\n",
    "from langchain.agents.agent_toolkits import create_python_agent\n",
    "from langchain.agents import AgentType"
   ]
  },
  {
   "cell_type": "code",
   "execution_count": null,
   "id": "123972b2",
   "metadata": {},
   "outputs": [],
   "source": [
    "agent = create_python_agent(\n",
    "    llm=llm,\n",
    "    tool=PythonREPLTool(),\n",
    "    verbose=True,\n",
    "    agent_type=AgentType.ZERO_SHOT_REACT_DESCRIPTION,\n",
    ")"
   ]
  },
  {
   "cell_type": "code",
   "execution_count": 55,
   "id": "912eff2c",
   "metadata": {},
   "outputs": [],
   "source": [
    "!pip install pytube\n",
    "!pip install youtube-transcript-api"
   ]
  },
  {
   "cell_type": "code",
   "execution_count": 2,
   "id": "856ee019",
   "metadata": {},
   "outputs": [],
   "source": [
    "from langchain.document_loaders import YoutubeLoader"
   ]
  },
  {
   "cell_type": "code",
   "execution_count": 3,
   "id": "abb1d5e2",
   "metadata": {},
   "outputs": [],
   "source": [
    "loader = YoutubeLoader.from_youtube_url(\n",
    "    \"https://www.youtube.com/watch?v=Ew4UGL8f4FQ&pp=ygURdGVkZHkgYmFsZGFzc2FycmU%3D\", add_video_info=True\n",
    ")\n",
    "\n",
    "data = loader.load()"
   ]
  },
  {
   "cell_type": "code",
   "execution_count": 4,
   "id": "8dc5672f",
   "metadata": {},
   "outputs": [
    {
     "name": "stdout",
     "output_type": "stream",
     "text": [
      "page_content=\"hi everyone Teddy Balthazar with teddybaldusta.com in this video we're looking at the brand new sports GMT watch from longine with the hydro Conquest GMT so in this video and on this channel we cover watches available for purchase on our website teddybaldersho.com as a full authorized dealer so in this video deep dive on this timepiece final points of consideration at the end but also throughout this video if you have further questions check out the link in the description down below where you can learn more and purchase the watch but guys without further Ado let's jump into the video take a closer look at this watch there have been a lot of notable releases throughout 2023 but thus far you could make the case that longine has potentially had the strongest showing of any brand out there with some of their new models that they unveiled whether you're looking at their Flagship models the update to the conquest collection a spirit Zulu time now at 39 millimeters that's enough to make most brands feel good about their overall performance for the year but here we are sitting just about three-fourths of the way through the year and longine is still seems like they have not lost momentum now unveiling a new GMT watch under the hydro Conquest family family that is commonly associated with their dive wash format in a contemporary package now with a true GMT movement to go along with it in a price under three thousand dollars making it one of the most value-packed true gmts in Swiss watchmaking beginning with the completely redesigned case more reminiscent of the conquest 2023 models than the old Hydra Conquest models here we have a case diameter of 41 millimeters 43.5 millimeters including the crown guards a thickness of 13.2 millimeters and a lug to Lug of 49.2 millimeters while the thickness is a significant bolstering from the original 11.9 millimeters now to accommodate the GMT movement on the inside it is not one that is going to be noticed given the already heavy visual appearance brought forth by that bezel and Crown guards while being broken up nicely from its side profile set between the 21 millimeter lugs and looking first at the all-new bracelet it features mostly brush surfaces with hits of polishing on the link sides while tapering down to just over 18 millimeters terminating at a fantastic three-piece milled clasp finding the perfect fit is simple with the bracelet using split pins to remove the required links while hiding a wonderfully executed push button micro adjust under the clasp to gain or remove slightly more than five millimeters from the bracelet's overall length turning our attention to the alternative strap options the blue and black rubber straps that accompany their color match dials feature curved ends that meet the case Body snugly with a finely grooved texture top tapering down and meeting an exceptional Mill deploying clasp with its own micro adjustment through use of a simple push button on the inside the green and brown dial options sport their color match canvas NATO straps with canvas Keepers and a textured and polished steel pin Buckle when looking at the case architecture while it may look similar to the new conquest 2023 or other Hydra Conquest models upon closer inspection you will notice that this case has been updated in virtually every single way vertical brushing sits Atop The dial side of the case with a slight curvature to the fine lines occurring on the crown guard tops before sharply transitioning to horizontally brush case sides interrupted at three where the crown Guard protrudes from the body protecting the large Crown here again we have a visual design that's similar to former Hydro Conquest models though it dimensionally changes to 6.8 millimeters for that screw down crown with well-cut grooves providing grip before the tapered transition to that Dome and polish Crown top decorated with the winged hourglass logo downswip lugs draw the eye to the case Underside where a radial brushing encompasses the laser engraved screwdown steel case back which pairs with the crown to achieve this watch's impressive 300 meters of water resistance a specification that is really seen on dive watches let alone a dive GMT returning to the dial side of the watch a polished steel 120 click unidirectional bezel is set with a ceramic bezel insert huge slightly towards the dial color Arabic numerals denote every 10 minutes with lines at every five and smaller minute countdown markers reaching 15 minutes except at 60 where a triangle sits topped with an applied polished circle loom pip on the black and blue dial variants we see more of a contemporary form with clean and modern white marker set while on the Olive and brown models we see more of this vintage Brown marker color being opted for and more of a guilt style the grooves of the bezel are excellent while the action of the bezel is crisp and snappy with small amounts of back play race slightly above the bezel rests a flat sapphire crystal with several layers of anti-reflective coating applied to both sides looking within that Crystal a split colored 24-hour track sits on the outer edge with Arabic numbers marking every even hour where the even 6 and 18 are split down the center by different colors stepped up slightly the main Central dial holds large polish applied indices filled with super luminova marking the hours interrupted at 3 by a framed and faceted date window with either a white color or color match date wheel while the printed minute track runs unobstructed just beyond its reach the black dial stands alone as the only semi-gloss option in contrast to the more Sunburst dials of the blue brown and Olive versions time telling is handled with a distinctive hour hand resembling a slimmed down snowflake design a sharpened pencil minute hand and a lollipop second hand and painted Aero GMT hand all with loom generously applied downtex is kept to a relative minimum and helps to pull the presentation together using colors to match other dial details with a printed longine name and applied Wing hourglass logo at noon in the GMT automatic 300 meters text at six legibility on these gmts is excellent especially on the blue and black models where there's more of this modern approach that is taken so the contrast is going to be elevated while the Vintage styling on the brown and Olive dials does hinder it slightly in comparison but more than makes up for it with its charm while still doing the job and not being far behind in this category the same can be said for the watch's loom application where the white Loom shines much brighter and longer than the Vintage color Loom both emitting a blue hue in low light conditions another point of appreciation for the Dial's execution comes as the hands are distinctly different while also stretching across the dial to more accurately point to their designated position with the GMT hand reaching that farthest point on that outer step as it gets to that 24 hour scale while not in view and beneath the safety of the case back the caliber inside this longine hydrocon Quest GMT presents the watch's strongest single value proposition a true GMT caliber known as the l844.5 so this is the same movement that we have seen in the spirit Zulu time GMT though it is important to note that this model does not feature the chronometer certification in the process now given the lower price point it may be a willing sacrifice and to further that point the models we had on hand here all tested across five different positions were all running right within cost parameters so pretty impressive one of the many benefits of longine is they have proprietary movements that they are getting from their parts with Etta but one thing that is notable about long Gene and I think they're perhaps too humble about this is that they are assembling these movements on site within their facility before then sending them off to cosc to be tested for their certification to then be cased up in their Zoo Time watches which again is being done on site in their facility we can play semantics all day but for many classifications and definitions these are in-house movements and they deliver on the spec as well compared to something like the at a 2893 or the SW 330 collar GMT movements you might otherwise find at this price point for a watch these come with a silicon balance spring and also true GMT function which at that first point when pulling out the crown you then will be able to adjust the local hour hand without stopping the balance and interrupting any of the other hand functions in other words making it very easy when you land in a new time zone the movement operates at a very unconventional beat frequency of 25 200 vibrations per hour or 3.5 Hertz it does feature hacking and hand winding so hacking stop in the second when you pull the crown to the farthest position and is right there with the best of them in this price range with a 72 hour power Reserve so not to unpack when looking at this new long-dream Hydro Conquest GMT so a couple points of consideration on the negative or maybe some points of contention and then we'll shift into the pros here one for legibility I think overall these watches are very good in that category but the GMT since this is the Hydro Conquest GMT the scale is very small in comparison to other gmts that you're going to find out there the other point comes down to mostly preference here is you are dealing with a variety of different industry Styles if you are fond of the previous Hydro conquest or Hydro Conquest in that diving format then this might be a separation for what you're looking for but now shifting into the pros strap and bracelet options are all exceptional longine is one of the best in the category for this they usually don't cut corners on both sides and this is another example of exactly that also the water resistance of these watches is absolutely fantastic to get a GMT function with 300 meters of water resistance you can not ask for much more but I think the main reason why this watch is so compelling is the combination of all these elements ceramic insert well finished case with the movement on the inside and where it sits within the market at large you look at the zulu time that is seated just around three thousand dollars this is cutting that price by 300 now the reason for that is for the cose certification but with many of these watches typically running close to that spec out of the box it's hard to dispute the value being presented by this watch this offers everyday viability 300 meters of water resistance true GMT movement and for those that are looking for that kind of do-it-all function GMT function dive wash capable with great water resistance from a brand like longine that is as good as any in the category of gmts simply put this is another great release from longine and I can say it again they're absolutely on a roll all right everybody that is all we have for this video If you enjoyed it please give it a thumbs up subscribe and hit the Bell icon really would appreciate that it does help out the channel also if you're in the market for this watch it is available on teddybaldustar.com teddybaldustar.com is a full authorized dealer of all the brands that we carry quick and fast fulfillment dedicated customer support and a full factory warranty for all the products that we offer how we're also able to fund all of our productions here as well as on our main channel is through selling watches on our site so if you're on the market we would absolutely love to have your business it allows us to keep doing what we're doing and we love what we do here but guys thank you again so much for watching be well and I will see you all very soon\" metadata={'source': 'Ew4UGL8f4FQ', 'title': 'The Best Attainable Swiss True GMT Dive Watch - Longines HydroConquest GMT', 'description': 'Unknown', 'view_count': 63729, 'thumbnail_url': 'https://i.ytimg.com/vi/Ew4UGL8f4FQ/hq720.jpg', 'publish_date': '2023-10-01 00:00:00', 'length': 656, 'author': 'Teddy Baldassarre Reviews'}\n"
     ]
    }
   ],
   "source": [
    "print(data[0])"
   ]
  },
  {
   "cell_type": "code",
   "execution_count": 5,
   "id": "889f0d0f",
   "metadata": {},
   "outputs": [],
   "source": [
    "from langchain.prompts import ChatPromptTemplate, HumanMessagePromptTemplate\n",
    "\n",
    "humam_prompt = HumanMessagePromptTemplate.from_template(\"Summarize the following: \\n{youtube_transcript}\")\n",
    "chat_prompt = ChatPromptTemplate.from_messages([humam_prompt])"
   ]
  },
  {
   "cell_type": "code",
   "execution_count": 16,
   "id": "35f1e56b",
   "metadata": {},
   "outputs": [],
   "source": [
    "llm=ChatOpenAI()"
   ]
  },
  {
   "cell_type": "code",
   "execution_count": 17,
   "id": "b8ef1295",
   "metadata": {},
   "outputs": [],
   "source": [
    "result = llm(chat_prompt.format_prompt(youtube_transcript=data[0].page_content).to_messages())"
   ]
  },
  {
   "cell_type": "code",
   "execution_count": 18,
   "id": "59c160e3",
   "metadata": {},
   "outputs": [
    {
     "name": "stdout",
     "output_type": "stream",
     "text": [
      "In this video, Teddy Balthazar reviews the brand new Longine sports GMT watch from the Hydro Conquest GMT collection. The watch has a redesigned case with a diameter of 41mm and a thickness of 13.2mm. It comes with a bracelet and alternative strap options. The dial features a 24-hour track and large polished indices filled with luminous material. The watch is powered by the L844.5 true GMT caliber movement, which has a 72-hour power reserve. The watch has a water resistance of 300 meters and is available for purchase on teddybaldusta.com. Teddy Balthazar praises the watch's strap and bracelet options, water resistance, and value for money. He notes that the GMT scale on the watch is small compared to other GMT watches and mentions that the watch may not appeal to those who prefer the previous Hydro Conquest models. Overall, he describes the watch as another great release from Longine and recommends it for those looking for an everyday watch with GMT and dive capabilities.\n"
     ]
    }
   ],
   "source": [
    "print(result.content)"
   ]
  },
  {
   "cell_type": "code",
   "execution_count": null,
   "id": "a72b495f",
   "metadata": {},
   "outputs": [],
   "source": []
  }
 ],
 "metadata": {
  "kernelspec": {
   "display_name": "Python 3 (ipykernel)",
   "language": "python",
   "name": "python3"
  },
  "language_info": {
   "codemirror_mode": {
    "name": "ipython",
    "version": 3
   },
   "file_extension": ".py",
   "mimetype": "text/x-python",
   "name": "python",
   "nbconvert_exporter": "python",
   "pygments_lexer": "ipython3",
   "version": "3.11.5"
  }
 },
 "nbformat": 4,
 "nbformat_minor": 5
}
